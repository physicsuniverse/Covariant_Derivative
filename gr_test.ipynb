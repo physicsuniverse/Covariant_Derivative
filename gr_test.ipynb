{
 "cells": [
  {
   "cell_type": "markdown",
   "id": "5d6bde88",
   "metadata": {},
   "source": [
    "# General Relativity Package Test Suite\n",
    "\n",
    "This notebook demonstrates the usage of the `gr_package.wl` Mathematica package for symbolic general relativity calculations.\n",
    "\n",
    "## Prerequisites\n",
    "\n",
    "To run this notebook, you need:\n",
    "1. **Wolfram Engine** (free for developers)\n",
    "2. **Wolfram Language kernel** configured in Jupyter\n",
    "3. **VS Code** with Jupyter extension\n",
    "\n",
    "### Installation Steps:\n",
    "\n",
    "1. Download and install Wolfram Engine from: https://www.wolfram.com/engine/\n",
    "2. Configure the kernel:\n",
    "   ```bash\n",
    "   # Add Wolfram Engine to Jupyter\n",
    "   wolframscript -configure\n",
    "   ```\n",
    "3. In VS Code, select the Wolfram Language kernel when running this notebook\n",
    "\n",
    "## Package Overview\n",
    "\n",
    "This package provides efficient symbolic computation of:\n",
    "- Christoffel symbols\n",
    "- Riemann curvature tensor\n",
    "- Ricci tensor and scalar\n",
    "- Einstein tensor\n",
    "- Weyl conformal tensor\n",
    "- Covariant derivatives\n",
    "\n",
    "The design emphasizes Mathematica's built-in tensor operations for elegance and performance."
   ]
  },
  {
   "cell_type": "code",
   "execution_count": null,
   "id": "8f0f6646",
   "metadata": {
    "vscode": {
     "languageId": "wolfram"
    }
   },
   "outputs": [],
   "source": [
    "(* Load the General Relativity package *)\n",
    "Get[\"gr_package.wl\"]"
   ]
  },
  {
   "cell_type": "markdown",
   "id": "3cc05dcb",
   "metadata": {},
   "source": [
    "## Test 1: Flat Minkowski Spacetime\n",
    "\n",
    "We start with the simplest case - flat Minkowski spacetime in Cartesian coordinates.\n",
    "\n",
    "Metric: $ds^2 = -dt^2 + dx^2 + dy^2 + dz^2$"
   ]
  },
  {
   "cell_type": "code",
   "execution_count": null,
   "id": "9397943b",
   "metadata": {
    "vscode": {
     "languageId": "wolfram"
    }
   },
   "outputs": [],
   "source": [
    "(* Define Minkowski spacetime *)\n",
    "xxMinkowski = {t, x, y, z};\n",
    "gMinkowski = DiagonalMatrix[{-1, 1, 1, 1}];\n",
    "\n",
    "Print[\"Coordinates: \", xxMinkowski];\n",
    "Print[\"Metric tensor:\"];\n",
    "gMinkowski // MatrixForm"
   ]
  },
  {
   "cell_type": "code",
   "execution_count": null,
   "id": "d1b73952",
   "metadata": {
    "vscode": {
     "languageId": "wolfram"
    }
   },
   "outputs": [],
   "source": [
    "(* Compute geometric quantities for Minkowski spacetime *)\n",
    "christoffelMinkowski = ChristoffelSymbol[gMinkowski, xxMinkowski];\n",
    "riemannMinkowski = RiemannTensor[gMinkowski, xxMinkowski];\n",
    "ricciMinkowski = RicciTensor[gMinkowski, xxMinkowski];\n",
    "ricciScalarMinkowski = RicciScalar[gMinkowski, xxMinkowski];\n",
    "einsteinMinkowski = EinsteinTensor[gMinkowski, xxMinkowski];\n",
    "\n",
    "Print[\"Christoffel symbols (should be zero): \", Simplify[christoffelMinkowski]];\n",
    "Print[\"Ricci scalar (should be zero): \", ricciScalarMinkowski];\n",
    "Print[\"Max absolute value in Einstein tensor: \", Max[Abs[Flatten[einsteinMinkowski]]]];"
   ]
  },
  {
   "cell_type": "markdown",
   "id": "b482a2ec",
   "metadata": {},
   "source": [
    "## Test 2: Schwarzschild Spacetime\n",
    "\n",
    "The Schwarzschild solution describes the spacetime around a spherically symmetric, non-rotating massive object.\n",
    "\n",
    "Metric: $ds^2 = -\\left(1-\\frac{2M}{r}\\right)dt^2 + \\left(1-\\frac{2M}{r}\\right)^{-1}dr^2 + r^2d\\theta^2 + r^2\\sin^2\\theta d\\phi^2$"
   ]
  },
  {
   "cell_type": "code",
   "execution_count": null,
   "id": "a79990e2",
   "metadata": {
    "vscode": {
     "languageId": "wolfram"
    }
   },
   "outputs": [],
   "source": [
    "(* Define Schwarzschild spacetime *)\n",
    "xxSchw = {t, r, θ, φ};\n",
    "f[r_] := 1 - 2*M/r;\n",
    "gSchw = DiagonalMatrix[{-f[r], 1/f[r], r^2, r^2*Sin[θ]^2}];\n",
    "\n",
    "Print[\"Schwarzschild metric components:\"];\n",
    "gSchw // MatrixForm"
   ]
  },
  {
   "cell_type": "code",
   "execution_count": null,
   "id": "8c6d52eb",
   "metadata": {
    "vscode": {
     "languageId": "wolfram"
    }
   },
   "outputs": [],
   "source": [
    "(* Compute Christoffel symbols for Schwarzschild *)\n",
    "christoffelSchw = ChristoffelSymbol[gSchw, xxSchw];\n",
    "\n",
    "(* Display some non-zero components *)\n",
    "Print[\"Γ^r_tt = \", Simplify[christoffelSchw[[2,1,1]]]];\n",
    "Print[\"Γ^t_tr = \", Simplify[christoffelSchw[[1,1,2]]]];\n",
    "Print[\"Γ^r_rr = \", Simplify[christoffelSchw[[2,2,2]]]];\n",
    "Print[\"Γ^θ_rθ = \", Simplify[christoffelSchw[[3,2,3]]]];"
   ]
  },
  {
   "cell_type": "code",
   "execution_count": null,
   "id": "d05bd182",
   "metadata": {
    "vscode": {
     "languageId": "wolfram"
    }
   },
   "outputs": [],
   "source": [
    "(* Compute Ricci tensor and scalar for Schwarzschild *)\n",
    "ricciSchw = RicciTensor[gSchw, xxSchw];\n",
    "ricciScalarSchw = RicciScalar[gSchw, xxSchw];\n",
    "einsteinSchw = EinsteinTensor[gSchw, xxSchw];\n",
    "\n",
    "Print[\"Ricci tensor (should be zero for vacuum solution):\"];\n",
    "Simplify[ricciSchw] // MatrixForm\n",
    "Print[\"Ricci scalar: \", Simplify[ricciScalarSchw]];\n",
    "Print[\"Einstein tensor (should be zero):\"];\n",
    "Simplify[einsteinSchw] // MatrixForm"
   ]
  },
  {
   "cell_type": "markdown",
   "id": "4999c29d",
   "metadata": {},
   "source": [
    "## Test 3: Friedmann-Lemaître-Robertson-Walker (FLRW) Cosmology\n",
    "\n",
    "The FLRW metric describes homogeneous and isotropic cosmological spacetimes.\n",
    "\n",
    "Metric: $ds^2 = -dt^2 + a(t)^2\\left[\\frac{dr^2}{1-kr^2} + r^2(d\\theta^2 + \\sin^2\\theta d\\phi^2)\\right]$\n",
    "\n",
    "Here we use the flat case ($k=0$)."
   ]
  },
  {
   "cell_type": "code",
   "execution_count": null,
   "id": "94a812d4",
   "metadata": {
    "vscode": {
     "languageId": "wolfram"
    }
   },
   "outputs": [],
   "source": [
    "(* Define FLRW spacetime (flat case, k=0) *)\n",
    "xxFLRW = {t, r, θ, φ};\n",
    "gFLRW = DiagonalMatrix[{-1, a[t]^2, a[t]^2*r^2, a[t]^2*r^2*Sin[θ]^2}];\n",
    "\n",
    "Print[\"FLRW metric (flat case):\"];\n",
    "gFLRW // MatrixForm"
   ]
  },
  {
   "cell_type": "code",
   "execution_count": null,
   "id": "b91b229e",
   "metadata": {
    "vscode": {
     "languageId": "wolfram"
    }
   },
   "outputs": [],
   "source": [
    "(* Compute Einstein tensor for FLRW *)\n",
    "ricciTensorFLRW = RicciTensor[gFLRW, xxFLRW];\n",
    "ricciScalarFLRW = RicciScalar[gFLRW, xxFLRW];\n",
    "einsteinFLRW = EinsteinTensor[gFLRW, xxFLRW];\n",
    "\n",
    "(* The (0,0) component should give the Friedmann equation *)\n",
    "Print[\"G_00 component (related to Friedmann equation):\"];\n",
    "G00 = Simplify[einsteinFLRW[[1,1]]];\n",
    "G00\n",
    "\n",
    "Print[\"G_11 component:\"];\n",
    "G11 = Simplify[einsteinFLRW[[2,2]]];\n",
    "G11"
   ]
  },
  {
   "cell_type": "markdown",
   "id": "c797363a",
   "metadata": {},
   "source": [
    "## Test 4: AdS₃ Spacetime (Anti-de Sitter in 3D)\n",
    "\n",
    "AdS₃ spacetime is important in holographic duality studies.\n",
    "\n",
    "Metric: $ds^2 = -\\left(r^2/L^2 + 1\\right)dt^2 + \\frac{dr^2}{r^2/L^2 + 1} + r^2d\\phi^2$"
   ]
  },
  {
   "cell_type": "code",
   "execution_count": null,
   "id": "4d11944f",
   "metadata": {
    "vscode": {
     "languageId": "wolfram"
    }
   },
   "outputs": [],
   "source": [
    "(* Define AdS3 spacetime *)\n",
    "xxAdS3 = {t, r, φ};\n",
    "L = 1; (* AdS radius *)\n",
    "fAdS[r_] := r^2/L^2 + 1;\n",
    "gAdS3 = DiagonalMatrix[{-fAdS[r], 1/fAdS[r], r^2}];\n",
    "\n",
    "Print[\"AdS₃ metric:\"];\n",
    "gAdS3 // MatrixForm"
   ]
  },
  {
   "cell_type": "code",
   "execution_count": null,
   "id": "b9d800f0",
   "metadata": {
    "vscode": {
     "languageId": "wolfram"
    }
   },
   "outputs": [],
   "source": [
    "(* Compute curvature for AdS3 *)\n",
    "ricciAdS3 = RicciTensor[gAdS3, xxAdS3];\n",
    "ricciScalarAdS3 = RicciScalar[gAdS3, xxAdS3];\n",
    "einsteinAdS3 = EinsteinTensor[gAdS3, xxAdS3];\n",
    "\n",
    "Print[\"Ricci scalar (should be constant): \", Simplify[ricciScalarAdS3]];\n",
    "Print[\"Einstein tensor + Λg (should be zero for AdS with cosmological constant):\"];\n",
    "Λ = -1/L^2; (* Cosmological constant for AdS *)\n",
    "einsteinPlusLambda = Simplify[einsteinAdS3 + Λ*gAdS3];\n",
    "einsteinPlusLambda // MatrixForm"
   ]
  },
  {
   "cell_type": "markdown",
   "id": "09c9a132",
   "metadata": {},
   "source": [
    "## Test 5: Covariant Derivative Examples\n",
    "\n",
    "Testing the covariant derivative functionality with various tensor types.\n",
    "\n",
    "### Index Notation Reminder:\n",
    "- Upper indices: `-a`, `-b`, etc.\n",
    "- Lower indices: `c`, `d`, etc.\n",
    "- Example: $T^a_b$ → `T[-a, b]`"
   ]
  },
  {
   "cell_type": "code",
   "execution_count": null,
   "id": "5465deb4",
   "metadata": {
    "vscode": {
     "languageId": "wolfram"
    }
   },
   "outputs": [],
   "source": [
    "(* Define a simple 2D metric for covariant derivative tests *)\n",
    "xx2D = {x, y};\n",
    "g2D = {{1, 0}, {0, x^2}}; (* Simple 2D metric *)\n",
    "\n",
    "Print[\"2D test metric:\"];\n",
    "g2D // MatrixForm"
   ]
  },
  {
   "cell_type": "code",
   "execution_count": null,
   "id": "1bb8e77e",
   "metadata": {
    "vscode": {
     "languageId": "wolfram"
    }
   },
   "outputs": [],
   "source": [
    "(* Test covariant derivative of a vector field *)\n",
    "(* Define a vector V^a *)\n",
    "V = Array[Subscript[v, #][x, y] &, 2];\n",
    "Print[\"Vector field V^a: \", V];\n",
    "\n",
    "(* Covariant derivative ∇_x V^a *)\n",
    "covDerV = CovariantDerivative[x, V[-a], g2D, xx2D];\n",
    "Print[\"∇_x V^a: \"];\n",
    "Simplify[covDerV]"
   ]
  },
  {
   "cell_type": "code",
   "execution_count": null,
   "id": "e41aacc5",
   "metadata": {
    "vscode": {
     "languageId": "wolfram"
    }
   },
   "outputs": [],
   "source": [
    "(* Test covariant derivative of the metric (should be zero) *)\n",
    "covDerMetric = CovariantDerivative[x, g2D[a, b], g2D, xx2D];\n",
    "Print[\"∇_x g_ab (should be zero): \"];\n",
    "Simplify[covDerMetric]"
   ]
  },
  {
   "cell_type": "markdown",
   "id": "25bb990a",
   "metadata": {},
   "source": [
    "## Test 6: Performance Comparison\n",
    "\n",
    "Demonstrating the efficiency of the symbolic approach versus explicit index calculations."
   ]
  },
  {
   "cell_type": "code",
   "execution_count": null,
   "id": "1a41e93e",
   "metadata": {
    "vscode": {
     "languageId": "wolfram"
    }
   },
   "outputs": [],
   "source": [
    "(* Performance test with a more complex metric *)\n",
    "xxPerf = {t, x, y, z};\n",
    "gPerf = {\n",
    "  {-1, 0, 0, x},\n",
    "  {0, 1 + t^2, y, 0},\n",
    "  {0, y, x^2 + y^2, 0},\n",
    "  {x, 0, 0, 1}\n",
    "};\n",
    "\n",
    "Print[\"Complex test metric:\"];\n",
    "gPerf // MatrixForm\n",
    "\n",
    "(* Time the computation *)\n",
    "timing = AbsoluteTiming[\n",
    "  christoffelPerf = ChristoffelSymbol[gPerf, xxPerf];\n",
    "  riemannPerf = RiemannTensor[gPerf, xxPerf];\n",
    "  ricciPerf = RicciTensor[gPerf, xxPerf];\n",
    "];\n",
    "\n",
    "Print[\"Computation time: \", timing[[1]], \" seconds\"];\n",
    "Print[\"Ricci tensor computed successfully: \", Dimensions[ricciPerf]];"
   ]
  },
  {
   "cell_type": "markdown",
   "id": "3f76d144",
   "metadata": {},
   "source": [
    "## Test 7: Weyl Tensor Example\n",
    "\n",
    "The Weyl tensor captures the \"free gravitational field\" - the part of curvature not determined by local matter content."
   ]
  },
  {
   "cell_type": "code",
   "execution_count": null,
   "id": "2e6b074e",
   "metadata": {
    "vscode": {
     "languageId": "wolfram"
    }
   },
   "outputs": [],
   "source": [
    "(* Compute Weyl tensor for Schwarzschild spacetime *)\n",
    "weylSchw = WeylTensor[gSchw, xxSchw];\n",
    "\n",
    "(* The Weyl tensor should be non-zero for Schwarzschild *)\n",
    "Print[\"Weyl tensor computed. Dimensions: \", Dimensions[weylSchw]];\n",
    "Print[\"Sample Weyl component C_trtr: \", Simplify[weylSchw[[1,2,1,2]]]];"
   ]
  },
  {
   "cell_type": "markdown",
   "id": "3e41994d",
   "metadata": {},
   "source": [
    "## Test 8: Verification of Einstein Field Equations\n",
    "\n",
    "For a perfect fluid, the Einstein field equations are:\n",
    "$G_{\\mu\\nu} = 8\\pi T_{\\mu\\nu}$\n",
    "\n",
    "Let's verify this for FLRW cosmology with a perfect fluid."
   ]
  },
  {
   "cell_type": "code",
   "execution_count": null,
   "id": "50fe2dc4",
   "metadata": {
    "vscode": {
     "languageId": "wolfram"
    }
   },
   "outputs": [],
   "source": [
    "(* Perfect fluid stress-energy tensor in FLRW *)\n",
    "(* T_μν = diag(-ρ, p, p, p) in comoving coordinates *)\n",
    "TPerfectFluid = DiagonalMatrix[{-ρ[t], p[t], p[t], p[t]}];\n",
    "\n",
    "Print[\"Perfect fluid stress-energy tensor:\"];\n",
    "TPerfectFluid // MatrixForm\n",
    "\n",
    "(* Compare G_μν with 8π T_μν *)\n",
    "Print[\"G_00 component: \", Simplify[einsteinFLRW[[1,1]]]];\n",
    "Print[\"8π T_00: \", 8*π*TPerfectFluid[[1,1]]];\n",
    "\n",
    "(* This gives us the Friedmann equation when set equal *)\n",
    "Print[\"Setting G_00 = 8π T_00 gives the Friedmann equation:\"];\n",
    "friedmannEq = Simplify[einsteinFLRW[[1,1]] == 8*π*TPerfectFluid[[1,1]]];\n",
    "friedmannEq"
   ]
  },
  {
   "cell_type": "markdown",
   "id": "475a7290",
   "metadata": {},
   "source": [
    "## Summary and Performance Notes\n",
    "\n",
    "This test suite demonstrates that the General Relativity package successfully:\n",
    "\n",
    "1. **Handles various spacetimes**: Minkowski, Schwarzschild, FLRW, AdS₃\n",
    "2. **Computes all major geometric quantities**: Christoffel symbols, Riemann tensor, Ricci tensor/scalar, Einstein tensor, Weyl tensor\n",
    "3. **Performs covariant derivatives** with proper index handling\n",
    "4. **Maintains computational efficiency** through symbolic operations\n",
    "5. **Verifies known results** like vacuum solutions and cosmological equations\n",
    "\n",
    "### Key Advantages:\n",
    "\n",
    "- **Symbolic elegance**: Uses Mathematica's built-in tensor operations instead of explicit loops\n",
    "- **Performance**: Vectorized operations are significantly faster than index-by-index calculations\n",
    "- **Accuracy**: Symbolic computation avoids numerical errors\n",
    "- **Flexibility**: Handles arbitrary dimensional spacetimes and coordinate systems\n",
    "\n",
    "### Usage in Research:\n",
    "\n",
    "This package is particularly useful for:\n",
    "- **Holographic duality studies** (AdS/CFT calculations)\n",
    "- **Black hole physics** (event horizon and thermodynamics)\n",
    "- **Cosmological modeling** (FLRW and perturbations)\n",
    "- **Alternative gravity theories** (modified Einstein equations)\n",
    "\n",
    "The xAct-inspired notation makes it compatible with other symbolic general relativity packages while maintaining Mathematica's computational strengths."
   ]
  }
 ],
 "metadata": {
  "kernelspec": {
   "display_name": "Wolfram Language 14",
   "language": "Wolfram Language",
   "name": "wolframlanguage14"
  },
  "language_info": {
   "codemirror_mode": "mathematica",
   "file_extension": ".m",
   "mimetype": "application/vnd.wolfram.m",
   "name": "Wolfram Language",
   "pygments_lexer": "mathematica",
   "version": "12.0"
  }
 },
 "nbformat": 4,
 "nbformat_minor": 5
}
